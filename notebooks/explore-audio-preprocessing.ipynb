{
 "cells": [
  {
   "cell_type": "code",
   "execution_count": null,
   "id": "1336c4a0",
   "metadata": {},
   "outputs": [],
   "source": [
    "%matplotlib inline\n",
    "\n",
    "import einops\n",
    "import librosa\n",
    "import matplotlib.pyplot as plt\n",
    "import numpy as np\n",
    "import soundfile\n",
    "import torch\n",
    "from IPython.display import Audio\n",
    "from torch.nn import functional as F\n",
    "from torchaudio.transforms import Loudness as NewLoudness"
   ]
  },
  {
   "cell_type": "code",
   "execution_count": null,
   "id": "c5cbb950",
   "metadata": {},
   "outputs": [],
   "source": [
    "import myddsp.constants as C\n",
    "import myddsp.preprocessors as pre"
   ]
  },
  {
   "cell_type": "code",
   "execution_count": null,
   "id": "868e60a8",
   "metadata": {},
   "outputs": [],
   "source": [
    "y, _ = librosa.load(\"../data/test/samples/violin-1.wav\", sr=48000, mono=False)"
   ]
  },
  {
   "cell_type": "code",
   "execution_count": null,
   "id": "5d314355",
   "metadata": {},
   "outputs": [],
   "source": [
    "Audio(y, rate=48000)"
   ]
  },
  {
   "cell_type": "code",
   "execution_count": null,
   "id": "d675ed0d",
   "metadata": {},
   "outputs": [],
   "source": [
    "ld = pre.Loudness()"
   ]
  },
  {
   "cell_type": "code",
   "execution_count": null,
   "id": "82a07dd4",
   "metadata": {},
   "outputs": [],
   "source": [
    "yy = torch.from_numpy(y)\n",
    "yy = yy.unsqueeze(0)\n",
    "amps = ld(yy).flatten().numpy()"
   ]
  },
  {
   "cell_type": "code",
   "execution_count": null,
   "id": "e727e7d6",
   "metadata": {},
   "outputs": [],
   "source": [
    "plt.plot(amps)"
   ]
  },
  {
   "cell_type": "code",
   "execution_count": null,
   "id": "17b62bc4",
   "metadata": {},
   "outputs": [],
   "source": [
    "amps.shape"
   ]
  },
  {
   "cell_type": "code",
   "execution_count": null,
   "id": "dce4ead8",
   "metadata": {},
   "outputs": [],
   "source": [
    "def randomize_phase(x):\n",
    "    s = torch.fft.rfft(x)\n",
    "    s_ = torch.polar(s.abs(), torch.rand_like(s.angle()) * 2.0 * np.pi)\n",
    "    x_ = torch.fft.irfft(s_)\n",
    "\n",
    "    return x_"
   ]
  },
  {
   "cell_type": "code",
   "execution_count": null,
   "id": "fa48efb3",
   "metadata": {},
   "outputs": [],
   "source": [
    "shit = randomize_phase(yy)"
   ]
  },
  {
   "cell_type": "code",
   "execution_count": null,
   "id": "21403c68",
   "metadata": {},
   "outputs": [],
   "source": [
    "yy.shape"
   ]
  },
  {
   "cell_type": "code",
   "execution_count": null,
   "id": "d2099e62",
   "metadata": {},
   "outputs": [],
   "source": [
    "amps1 = ld(yy).flatten().numpy()"
   ]
  },
  {
   "cell_type": "code",
   "execution_count": null,
   "id": "3b87d1dd",
   "metadata": {},
   "outputs": [],
   "source": [
    "all(np.isclose(amps, amps1))"
   ]
  },
  {
   "cell_type": "code",
   "execution_count": null,
   "id": "1c5570b9",
   "metadata": {},
   "outputs": [],
   "source": [
    "rf = librosa.util.frame(y, frame_length=C.N_FFT, hop_length=C.HOP_LENGTH, writeable=True)\n",
    "rf = torch.from_numpy(rf)"
   ]
  },
  {
   "cell_type": "code",
   "execution_count": null,
   "id": "5d1569e3",
   "metadata": {},
   "outputs": [],
   "source": [
    "tl = NewLoudness(C.SAMPLE_RATE)"
   ]
  },
  {
   "cell_type": "code",
   "execution_count": null,
   "id": "b0b966bf",
   "metadata": {},
   "outputs": [],
   "source": [
    "rf.shape"
   ]
  },
  {
   "cell_type": "code",
   "execution_count": null,
   "id": "a5e35433",
   "metadata": {},
   "outputs": [],
   "source": [
    "c, n, f = rf.shape\n",
    "rf_ = einops.rearrange(rf, \"c n f -> f c n\")\n",
    "win = torch.hann_window(n)\n",
    "rf_ = einops.einsum(rf_, win, \"f c n, n -> f c n\")\n",
    "start = (19200 - n) // 2\n",
    "end = (19200 - n) - start\n",
    "rf_ = F.pad(rf_, (start, end))\n",
    "amp2 = tl(rf_)"
   ]
  },
  {
   "cell_type": "code",
   "execution_count": null,
   "id": "a8de9466",
   "metadata": {},
   "outputs": [],
   "source": [
    "plt.plot(amp2.numpy())"
   ]
  },
  {
   "cell_type": "code",
   "execution_count": null,
   "id": "e5b79696",
   "metadata": {},
   "outputs": [],
   "source": [
    "filtered = amp2[~torch.isnan(amp2)]"
   ]
  },
  {
   "cell_type": "code",
   "execution_count": null,
   "id": "6427e4e1",
   "metadata": {},
   "outputs": [],
   "source": [
    "plt.plot(filtered.numpy())"
   ]
  },
  {
   "cell_type": "code",
   "execution_count": null,
   "id": "305b4fb1",
   "metadata": {},
   "outputs": [],
   "source": [
    "filtered2 = amps[amps >= -70]"
   ]
  },
  {
   "cell_type": "code",
   "execution_count": null,
   "id": "fc87b6a5",
   "metadata": {},
   "outputs": [],
   "source": [
    "plt.plot(filtered2)"
   ]
  },
  {
   "cell_type": "code",
   "execution_count": null,
   "id": "93dcec33",
   "metadata": {},
   "outputs": [],
   "source": []
  }
 ],
 "metadata": {
  "kernelspec": {
   "display_name": "Python 3 (ipykernel)",
   "language": "python",
   "name": "python3"
  },
  "language_info": {
   "codemirror_mode": {
    "name": "ipython",
    "version": 3
   },
   "file_extension": ".py",
   "mimetype": "text/x-python",
   "name": "python",
   "nbconvert_exporter": "python",
   "pygments_lexer": "ipython3",
   "version": "3.10.8"
  }
 },
 "nbformat": 4,
 "nbformat_minor": 5
}
