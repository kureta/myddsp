{
 "cells": [
  {
   "cell_type": "code",
   "execution_count": null,
   "id": "1336c4a0",
   "metadata": {},
   "outputs": [],
   "source": [
    "import matplotlib.pyplot as plt\n",
    "\n",
    "%matplotlib inline\n",
    "\n",
    "from functools import partial\n",
    "\n",
    "import einops\n",
    "import librosa\n",
    "import numpy as np\n",
    "import soundfile\n",
    "import torch\n",
    "import torchaudio\n",
    "import torchaudio.functional as AF\n",
    "from IPython.display import Audio\n",
    "from torch.nn import functional as F\n",
    "from torchaudio.transforms import Resample\n",
    "\n",
    "import myddsp.constants as C\n",
    "import myddsp.preprocessors as pre"
   ]
  },
  {
   "cell_type": "code",
   "execution_count": null,
   "id": "1c8885cf",
   "metadata": {},
   "outputs": [],
   "source": [
    "def plot(x, figsize=(12, 6), *args, **kwargs):\n",
    "    fig, ax = plt.subplots(figsize=figsize)\n",
    "    ax.plot(x, *args, **kwargs)\n",
    "\n",
    "\n",
    "def matshow(x, figsize=(50, 50), *args, **kwargs):\n",
    "    fig, ax = plt.subplots(figsize=figsize)\n",
    "    ax.matshow(x, *args, origin=\"lower\", **kwargs)"
   ]
  },
  {
   "cell_type": "markdown",
   "id": "1a49e139",
   "metadata": {},
   "source": [
    "## Load example"
   ]
  },
  {
   "cell_type": "code",
   "execution_count": null,
   "id": "868e60a8",
   "metadata": {},
   "outputs": [],
   "source": [
    "y, _ = librosa.load(\"../data/test/samples/violin-4.wav\", sr=48000, mono=True)\n",
    "Audio(y, rate=48000)"
   ]
  },
  {
   "cell_type": "code",
   "execution_count": null,
   "id": "796eb67b",
   "metadata": {},
   "outputs": [],
   "source": [
    "yy = torch.from_numpy(y)\n",
    "yy = yy.unsqueeze(0).unsqueeze(0)"
   ]
  },
  {
   "cell_type": "markdown",
   "id": "120547a7",
   "metadata": {},
   "source": [
    "## Explore loudness calculation methods"
   ]
  },
  {
   "cell_type": "code",
   "execution_count": null,
   "id": "17531392",
   "metadata": {},
   "outputs": [],
   "source": [
    "C.N_FFT, C.HOP_LENGTH, C.CREPE_HOP_LENGTH"
   ]
  },
  {
   "cell_type": "code",
   "execution_count": null,
   "id": "d675ed0d",
   "metadata": {},
   "outputs": [],
   "source": [
    "ld = pre.Loudness()\n",
    "ld = ld.eval()\n",
    "for p in ld.parameters():\n",
    "    p.requires_grad = False"
   ]
  },
  {
   "cell_type": "code",
   "execution_count": null,
   "id": "82a07dd4",
   "metadata": {},
   "outputs": [],
   "source": [
    "with torch.inference_mode():\n",
    "    amps = ld(yy).flatten().numpy() / 100 + 1"
   ]
  },
  {
   "cell_type": "code",
   "execution_count": null,
   "id": "de171299",
   "metadata": {},
   "outputs": [],
   "source": [
    "q = np.round(amps * 152).astype(\"int\")\n",
    "kq = np.take(np.eye(152), q, axis=0)\n",
    "matshow(kq.T)"
   ]
  },
  {
   "cell_type": "code",
   "execution_count": null,
   "id": "364d8a35",
   "metadata": {},
   "outputs": [],
   "source": [
    "kq.shape"
   ]
  },
  {
   "cell_type": "markdown",
   "id": "b7df9b8e",
   "metadata": {},
   "source": [
    "## Explore pitch calculation methods"
   ]
  },
  {
   "cell_type": "code",
   "execution_count": null,
   "id": "2d594a3c",
   "metadata": {},
   "outputs": [],
   "source": [
    "crepe = pre.F0(\"full\").cuda()\n",
    "crepe = crepe.eval()\n",
    "for p in crepe.parameters():\n",
    "    p.requires_grad = False"
   ]
  },
  {
   "cell_type": "code",
   "execution_count": null,
   "id": "092e33c4",
   "metadata": {},
   "outputs": [],
   "source": [
    "rs = Resample(48000, 16000)"
   ]
  },
  {
   "cell_type": "code",
   "execution_count": null,
   "id": "b68bb7f2",
   "metadata": {},
   "outputs": [],
   "source": [
    "with torch.inference_mode():\n",
    "    acti = crepe(rs(yy).cuda())"
   ]
  },
  {
   "cell_type": "code",
   "execution_count": null,
   "id": "9846d004",
   "metadata": {},
   "outputs": [],
   "source": [
    "matshow(acti.cpu().T)"
   ]
  },
  {
   "cell_type": "code",
   "execution_count": null,
   "id": "c5278236",
   "metadata": {},
   "outputs": [],
   "source": [
    "const = 9\n",
    "delta = 0.01\n",
    "peak_part = partial(\n",
    "    librosa.util.peak_pick,\n",
    "    pre_max=const,\n",
    "    post_max=const,\n",
    "    pre_avg=const,\n",
    "    post_avg=const * 2,\n",
    "    delta=delta,\n",
    "    wait=const * 3,\n",
    ")\n",
    "result = list(map(peak_part, acti.cpu().numpy()))\n",
    "\n",
    "pitch_condition = np.zeros_like(acti.cpu())\n",
    "no_pitch = 0\n",
    "for idx, r in enumerate(result):\n",
    "    try:\n",
    "        pitch_condition[idx, r] = acti[idx, r].cpu()\n",
    "    except IndexError:\n",
    "        no_pitch += 1\n",
    "        continue\n",
    "\n",
    "print(f\"{no_pitch} frames have no pitch!\")\n",
    "\n",
    "matshow(pitch_condition.T)"
   ]
  },
  {
   "cell_type": "code",
   "execution_count": null,
   "id": "d18944bb",
   "metadata": {},
   "outputs": [],
   "source": []
  }
 ],
 "metadata": {
  "kernelspec": {
   "display_name": "Python 3 (ipykernel)",
   "language": "python",
   "name": "python3"
  },
  "language_info": {
   "codemirror_mode": {
    "name": "ipython",
    "version": 3
   },
   "file_extension": ".py",
   "mimetype": "text/x-python",
   "name": "python",
   "nbconvert_exporter": "python",
   "pygments_lexer": "ipython3",
   "version": "3.10.10"
  }
 },
 "nbformat": 4,
 "nbformat_minor": 5
}
