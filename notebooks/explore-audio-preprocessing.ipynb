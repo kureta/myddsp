{
 "cells": [
  {
   "cell_type": "code",
   "execution_count": null,
   "id": "1336c4a0",
   "metadata": {},
   "outputs": [],
   "source": [
    "%matplotlib inline\n",
    "\n",
    "import librosa\n",
    "import matplotlib.pyplot as plt\n",
    "import numpy as np\n",
    "import soundfile\n",
    "import torch\n",
    "from IPython.display import Audio\n",
    "from torch.nn import functional as F"
   ]
  },
  {
   "cell_type": "code",
   "execution_count": null,
   "id": "c5cbb950",
   "metadata": {},
   "outputs": [],
   "source": [
    "from myddsp.preprocessors import LegacyLoudness"
   ]
  },
  {
   "cell_type": "code",
   "execution_count": null,
   "id": "868e60a8",
   "metadata": {},
   "outputs": [],
   "source": [
    "y, _ = librosa.load(\"../data/test/samples/violin-1.wav\", sr=48000, mono=False)"
   ]
  },
  {
   "cell_type": "code",
   "execution_count": null,
   "id": "5d314355",
   "metadata": {},
   "outputs": [],
   "source": [
    "Audio(y, rate=48000)"
   ]
  },
  {
   "cell_type": "code",
   "execution_count": null,
   "id": "9fe31baa",
   "metadata": {},
   "outputs": [],
   "source": [
    "y_trimmed, _ = librosa.effects.trim(y, top_db=80)"
   ]
  },
  {
   "cell_type": "code",
   "execution_count": null,
   "id": "a83ac818",
   "metadata": {},
   "outputs": [],
   "source": [
    "Audio(y_trimmed, rate=48000)"
   ]
  },
  {
   "cell_type": "code",
   "execution_count": null,
   "id": "d675ed0d",
   "metadata": {},
   "outputs": [],
   "source": [
    "ld = LegacyLoudness()"
   ]
  },
  {
   "cell_type": "code",
   "execution_count": null,
   "id": "82a07dd4",
   "metadata": {},
   "outputs": [],
   "source": [
    "yy = torch.from_numpy(y_trimmed)\n",
    "yy = yy.unsqueeze(0)\n",
    "amps1 = ld(yy).flatten().numpy()"
   ]
  },
  {
   "cell_type": "code",
   "execution_count": null,
   "id": "dce4ead8",
   "metadata": {},
   "outputs": [],
   "source": [
    "def randomize_phase(x):\n",
    "    s = torch.fft.rfft(x)\n",
    "    s_ = torch.polar(s.abs(), torch.rand_like(s.angle()) * 2.0 * np.pi)\n",
    "    x_ = torch.fft.irfft(s_)\n",
    "\n",
    "    return x_"
   ]
  },
  {
   "cell_type": "code",
   "execution_count": null,
   "id": "fa48efb3",
   "metadata": {},
   "outputs": [],
   "source": [
    "shit = randomize_phase(yy)"
   ]
  },
  {
   "cell_type": "code",
   "execution_count": null,
   "id": "21403c68",
   "metadata": {},
   "outputs": [],
   "source": [
    "yy.shape"
   ]
  },
  {
   "cell_type": "code",
   "execution_count": null,
   "id": "d2099e62",
   "metadata": {},
   "outputs": [],
   "source": [
    "amps = ld(yy).flatten().numpy()"
   ]
  },
  {
   "cell_type": "code",
   "execution_count": null,
   "id": "3b87d1dd",
   "metadata": {},
   "outputs": [],
   "source": [
    "all(np.isclose(amps, amps1))"
   ]
  },
  {
   "cell_type": "code",
   "execution_count": null,
   "id": "e727e7d6",
   "metadata": {},
   "outputs": [],
   "source": [
    "plt.plot(amps)"
   ]
  },
  {
   "cell_type": "code",
   "execution_count": null,
   "id": "d920a188",
   "metadata": {},
   "outputs": [],
   "source": [
    "plt.plot(amps1)"
   ]
  },
  {
   "cell_type": "code",
   "execution_count": null,
   "id": "3fad8676",
   "metadata": {},
   "outputs": [],
   "source": [
    "import einops\n",
    "from torchaudio.transforms import Loudness\n",
    "\n",
    "import myddsp.constants as C"
   ]
  },
  {
   "cell_type": "code",
   "execution_count": null,
   "id": "664d126a",
   "metadata": {},
   "outputs": [],
   "source": [
    "tl = Loudness(48000)"
   ]
  },
  {
   "cell_type": "code",
   "execution_count": null,
   "id": "1c5570b9",
   "metadata": {},
   "outputs": [],
   "source": [
    "reframed = librosa.util.frame(y_trimmed, frame_length=19200, hop_length=C.HOP_LENGTH)"
   ]
  },
  {
   "cell_type": "code",
   "execution_count": null,
   "id": "a3d6468d",
   "metadata": {},
   "outputs": [],
   "source": [
    "reframed.shape"
   ]
  },
  {
   "cell_type": "code",
   "execution_count": null,
   "id": "fa4b7066",
   "metadata": {},
   "outputs": [],
   "source": [
    "reframed.shape"
   ]
  },
  {
   "cell_type": "code",
   "execution_count": null,
   "id": "5264828f",
   "metadata": {},
   "outputs": [],
   "source": [
    "rf = torch.from_numpy(np.copy(reframed))"
   ]
  },
  {
   "cell_type": "code",
   "execution_count": null,
   "id": "a5e35433",
   "metadata": {},
   "outputs": [],
   "source": [
    "c, n, f = rf.shape\n",
    "rf_ = einops.rearrange(rf, \"c n f -> f c n\")\n",
    "win = torch.hann_window(n)\n",
    "rf_ = einops.einsum(rf_, win, \"f c n, n -> f c n\")\n",
    "start = (19200 - n) // 2\n",
    "end = (19200 - n) - start\n",
    "rf_ = F.pad(rf_, (start, end))\n",
    "amp = tl(rf_)"
   ]
  },
  {
   "cell_type": "code",
   "execution_count": null,
   "id": "5703a31b",
   "metadata": {},
   "outputs": [],
   "source": [
    "rf_.shape"
   ]
  },
  {
   "cell_type": "code",
   "execution_count": null,
   "id": "26bfb93f",
   "metadata": {},
   "outputs": [],
   "source": [
    "plt.plot(amp.numpy())"
   ]
  },
  {
   "cell_type": "code",
   "execution_count": null,
   "id": "a8de9466",
   "metadata": {},
   "outputs": [],
   "source": [
    "plt.plot(amp.numpy())"
   ]
  },
  {
   "cell_type": "code",
   "execution_count": null,
   "id": "87faaa17",
   "metadata": {},
   "outputs": [],
   "source": [
    "amp.indices()"
   ]
  },
  {
   "cell_type": "code",
   "execution_count": null,
   "id": "adad46c6",
   "metadata": {},
   "outputs": [],
   "source": []
  }
 ],
 "metadata": {
  "kernelspec": {
   "display_name": "Python 3 (ipykernel)",
   "language": "python",
   "name": "python3"
  },
  "language_info": {
   "codemirror_mode": {
    "name": "ipython",
    "version": 3
   },
   "file_extension": ".py",
   "mimetype": "text/x-python",
   "name": "python",
   "nbconvert_exporter": "python",
   "pygments_lexer": "ipython3",
   "version": "3.10.8"
  }
 },
 "nbformat": 4,
 "nbformat_minor": 5
}
