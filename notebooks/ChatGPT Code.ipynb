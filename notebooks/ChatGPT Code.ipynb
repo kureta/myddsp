{
 "cells": [
  {
   "cell_type": "code",
   "execution_count": null,
   "id": "225b0887",
   "metadata": {},
   "outputs": [],
   "source": [
    "import torch\n",
    "import torch.nn as nn\n",
    "\n",
    "\n",
    "class ConvDecoder(nn.Module):\n",
    "    def __init__(self):\n",
    "        super(ConvDecoder, self).__init__()\n",
    "\n",
    "        # Define the layers of the decoder\n",
    "        self.conv1 = nn.ConvTranspose1d(2, 64, kernel_size=5, stride=2, padding=2)\n",
    "        self.bn1 = nn.BatchNorm1d(64)\n",
    "        self.relu1 = nn.ReLU()\n",
    "\n",
    "        self.conv2 = nn.ConvTranspose1d(64, 32, kernel_size=5, stride=2, padding=2)\n",
    "        self.bn2 = nn.BatchNorm1d(32)\n",
    "        self.relu2 = nn.ReLU()\n",
    "\n",
    "        self.conv3 = nn.ConvTranspose1d(32, 16, kernel_size=5, stride=2, padding=2)\n",
    "        self.bn3 = nn.BatchNorm1d(16)\n",
    "        self.relu3 = nn.ReLU()\n",
    "\n",
    "        self.conv4 = nn.ConvTranspose1d(16, 1, kernel_size=5, stride=2, padding=2)\n",
    "        self.bn4 = nn.BatchNorm1d(1)\n",
    "        self.relu4 = nn.ReLU()\n",
    "\n",
    "        self.fc1 = nn.Linear(5745, 3072)\n",
    "\n",
    "    def forward(self, x):\n",
    "        # Reshape the input tensor to have 2 channels\n",
    "        x = x.view(-1, 2, 360)\n",
    "\n",
    "        # Pass the input tensor through each layer of the decoder\n",
    "        x = self.conv1(x)\n",
    "        x = self.bn1(x)\n",
    "        x = self.relu1(x)\n",
    "\n",
    "        x = self.conv2(x)\n",
    "        x = self.bn2(x)\n",
    "        x = self.relu2(x)\n",
    "\n",
    "        x = self.conv3(x)\n",
    "        x = self.bn3(x)\n",
    "        x = self.relu3(x)\n",
    "\n",
    "        x = self.conv4(x)\n",
    "        x = self.bn4(x)\n",
    "        x = self.relu4(x)\n",
    "\n",
    "        x = self.fc1(x)\n",
    "\n",
    "        # Reshape the output tensor to have a single channel and width of 3072\n",
    "        #         x = x.view(-1, 3072)\n",
    "\n",
    "        return x"
   ]
  },
  {
   "cell_type": "code",
   "execution_count": null,
   "id": "c6b490b9",
   "metadata": {},
   "outputs": [],
   "source": [
    "batch_size = 32\n",
    "\n",
    "decoder = ConvDecoder()\n",
    "input_tensor = torch.randn(batch_size, 2, 360)\n",
    "output_tensor = decoder(input_tensor)"
   ]
  },
  {
   "cell_type": "code",
   "execution_count": null,
   "id": "e24f0b0c",
   "metadata": {},
   "outputs": [],
   "source": [
    "output_tensor.shape"
   ]
  },
  {
   "cell_type": "code",
   "execution_count": null,
   "id": "1b325b9e",
   "metadata": {},
   "outputs": [],
   "source": []
  }
 ],
 "metadata": {
  "kernelspec": {
   "display_name": "Python 3 (ipykernel)",
   "language": "python",
   "name": "python3"
  },
  "language_info": {
   "codemirror_mode": {
    "name": "ipython",
    "version": 3
   },
   "file_extension": ".py",
   "mimetype": "text/x-python",
   "name": "python",
   "nbconvert_exporter": "python",
   "pygments_lexer": "ipython3",
   "version": "3.10.10"
  }
 },
 "nbformat": 4,
 "nbformat_minor": 5
}
