{
 "cells": [
  {
   "cell_type": "code",
   "execution_count": null,
   "id": "7dae7ca1",
   "metadata": {},
   "outputs": [],
   "source": [
    "%cd ..\n",
    "import matplotlib.pyplot as plt\n",
    "\n",
    "%matplotlib inline\n",
    "from functools import partial\n",
    "from multiprocessing import Pool\n",
    "from pathlib import Path\n",
    "\n",
    "import librosa\n",
    "import numpy as np\n",
    "import torch\n",
    "import torchaudio\n",
    "import torchaudio.functional as AF\n",
    "from IPython.display import Audio\n",
    "from rich.progress import track\n",
    "from torch.nn import functional as F\n",
    "from torch.utils.data import DataLoader\n",
    "\n",
    "from myddsp import constants as C\n",
    "from myddsp.preprocessors import get_centered_frames\n",
    "from myddsp.train import Zak\n",
    "from myddsp.vae import (\n",
    "    load_file,\n",
    "    persist,\n",
    "    prepare_all,\n",
    "    prepare_amp,\n",
    "    prepare_pitch,\n",
    "    prepare_stft,\n",
    ")"
   ]
  },
  {
   "cell_type": "code",
   "execution_count": null,
   "id": "d8c39c7b",
   "metadata": {},
   "outputs": [],
   "source": [
    "a = torch.randn(2, 3, 5)"
   ]
  },
  {
   "cell_type": "code",
   "execution_count": null,
   "id": "47c4e727",
   "metadata": {},
   "outputs": [],
   "source": [
    "a.argmax(dim=2).shape"
   ]
  },
  {
   "cell_type": "code",
   "execution_count": null,
   "id": "831eaf39",
   "metadata": {},
   "outputs": [],
   "source": [
    "def plot(x, figsize=(12, 6), *args, **kwargs):\n",
    "    fig, ax = plt.subplots(figsize=figsize)\n",
    "    ax.plot(x, *args, **kwargs)\n",
    "\n",
    "\n",
    "def matshow(x, figsize=(12, 12), *args, **kwargs):\n",
    "    fig, ax = plt.subplots(figsize=figsize)\n",
    "    ax.matshow(x, *args, origin=\"lower\", **kwargs)\n",
    "\n",
    "\n",
    "def safe_log(x, eps=1e-5):\n",
    "    return torch.log(torch.clamp(x, min=eps))"
   ]
  },
  {
   "cell_type": "code",
   "execution_count": null,
   "id": "30791500",
   "metadata": {},
   "outputs": [],
   "source": [
    "zak = Zak()\n",
    "zak.load_from_checkpoint(\"logs/version_8/checkpoints/epoch=2-step=80340.ckpt\")\n",
    "\n",
    "zak = zak.eval()\n",
    "for p in zak.parameters():\n",
    "    p.requires_grad = False\n",
    "zak = zak.cuda()"
   ]
  },
  {
   "cell_type": "code",
   "execution_count": null,
   "id": "a9872e38",
   "metadata": {},
   "outputs": [],
   "source": [
    "stft, amp, pitch = prepare_all()"
   ]
  },
  {
   "cell_type": "code",
   "execution_count": null,
   "id": "3586d51e",
   "metadata": {},
   "outputs": [],
   "source": [
    "size = 4096\n",
    "with torch.inference_mode():\n",
    "    result = zak.decoder(amp[:size].cuda(), pitch[:size].cuda()).cpu()"
   ]
  },
  {
   "cell_type": "code",
   "execution_count": null,
   "id": "e7cc82b8",
   "metadata": {},
   "outputs": [],
   "source": [
    "matshow(result.T)"
   ]
  },
  {
   "cell_type": "code",
   "execution_count": null,
   "id": "a09354b7",
   "metadata": {},
   "outputs": [],
   "source": [
    "result.min(), result.max(), stft[:size].min(), stft[:size].max()"
   ]
  },
  {
   "cell_type": "code",
   "execution_count": null,
   "id": "fee76acb",
   "metadata": {},
   "outputs": [],
   "source": [
    "y_hat = librosa.griffinlim(\n",
    "    np.concatenate([np.zeros((1, result.shape[0])), result.T]),\n",
    "    n_iter=64,\n",
    "    hop_length=C.HOP_LENGTH,\n",
    "    n_fft=C.N_FFT,\n",
    "    init=\"random\",\n",
    ")\n",
    "Audio(data=y_hat, rate=C.SAMPLE_RATE)"
   ]
  },
  {
   "cell_type": "code",
   "execution_count": null,
   "id": "739b3d4f",
   "metadata": {},
   "outputs": [],
   "source": []
  },
  {
   "cell_type": "code",
   "execution_count": null,
   "id": "9dbb4486",
   "metadata": {},
   "outputs": [],
   "source": []
  }
 ],
 "metadata": {
  "kernelspec": {
   "display_name": "Python 3 (ipykernel)",
   "language": "python",
   "name": "python3"
  },
  "language_info": {
   "codemirror_mode": {
    "name": "ipython",
    "version": 3
   },
   "file_extension": ".py",
   "mimetype": "text/x-python",
   "name": "python",
   "nbconvert_exporter": "python",
   "pygments_lexer": "ipython3",
   "version": "3.10.10"
  }
 },
 "nbformat": 4,
 "nbformat_minor": 5
}
