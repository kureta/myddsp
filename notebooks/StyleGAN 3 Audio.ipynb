{
 "cells": [
  {
   "cell_type": "code",
   "execution_count": null,
   "id": "067f80aa",
   "metadata": {},
   "outputs": [],
   "source": [
    "%config InlineBackend.figure_formats = ['svg']\n",
    "import matplotlib.pyplot as plt\n",
    "\n",
    "%matplotlib inline\n",
    "import librosa\n",
    "import librosa.display\n",
    "import numpy as np\n",
    "import torch\n",
    "from IPython.display import Audio\n",
    "from torch.nn import functional as F"
   ]
  },
  {
   "cell_type": "code",
   "execution_count": null,
   "id": "1cc0ad9e",
   "metadata": {},
   "outputs": [],
   "source": [
    "sample_rate = 48000\n",
    "n_fft = 1024\n",
    "hop_ratio = 2\n",
    "hop_length = n_fft // hop_ratio\n",
    "frames = n_fft // 2"
   ]
  },
  {
   "cell_type": "code",
   "execution_count": null,
   "id": "96bd835a",
   "metadata": {},
   "outputs": [],
   "source": [
    "y, sr = librosa.load(\"../data/test/samples/violin-1.wav\", sr=sample_rate, mono=False)\n",
    "Audio(data=y, rate=sample_rate)"
   ]
  },
  {
   "cell_type": "code",
   "execution_count": null,
   "id": "405da637",
   "metadata": {},
   "outputs": [],
   "source": [
    "assert sr == sample_rate\n",
    "print(f\"audio sample shape:\\t{y.shape}\")\n",
    "square_stft_duration = librosa.frames_to_time(\n",
    "    frames, sr=sample_rate, hop_length=hop_length, n_fft=n_fft\n",
    ")\n",
    "print(f\"square stft duration:\\t{square_stft_duration:.2f} sec.\")"
   ]
  },
  {
   "cell_type": "code",
   "execution_count": null,
   "id": "29190bcd",
   "metadata": {},
   "outputs": [],
   "source": [
    "D = librosa.stft(y[0], n_fft=n_fft, hop_length=hop_length)\n",
    "mag, phase = librosa.magphase(D)\n",
    "angle = np.angle(phase)\n",
    "alpha = librosa.amplitude_to_db(mag, ref=np.max) / 80 + 1\n",
    "freqs = librosa.fft_frequencies(sr=sample_rate, n_fft=n_fft)\n",
    "times = librosa.times_like(D, sr=sample_rate, hop_length=hop_length, n_fft=n_fft)\n",
    "unwrapped_pahse_diff = np.diff(np.unwrap(angle, axis=1), axis=1, prepend=0)\n",
    "angle.shape, unwrapped_pahse_diff.shape"
   ]
  },
  {
   "cell_type": "code",
   "execution_count": null,
   "id": "c7c1d822",
   "metadata": {},
   "outputs": [],
   "source": [
    "fig, ax = plt.subplots()\n",
    "img = librosa.display.specshow(\n",
    "    unwrapped_pahse_diff, cmap=\"hsv\", alpha=alpha, ax=ax, y_axis=\"linear\", x_axis=\"time\"\n",
    ")\n",
    "ax.set_facecolor(\"#000\")\n",
    "cbar = fig.colorbar(img, ticks=[-np.pi, -np.pi / 2, 0, np.pi / 2, np.pi])\n",
    "cbar.ax.set(yticklabels=[\"-π\", \"-π/2\", \"0\", \"π/2\", \"π\"])\n",
    "plt.show()"
   ]
  },
  {
   "cell_type": "markdown",
   "id": "e8368282",
   "metadata": {},
   "source": [
    "## Notes\n",
    "\n",
    "Real and imaginary part of complex phase can be 2 color channels. We can multiply them with alpha.\n",
    "\n",
    "We can sample phase from a uniform distribution then take linear interp between that and the actual phase to generate audio."
   ]
  },
  {
   "cell_type": "code",
   "execution_count": null,
   "id": "e323280f",
   "metadata": {},
   "outputs": [],
   "source": [
    "undiffed_phase = np.cumsum(unwrapped_pahse_diff[:, 1:], axis=1)\n",
    "# noise_phase = np.random.uniform(low=-np.pi, high=np.pi, size=undiffed_phase.shape)\n",
    "# phase_hat = alpha * undiffed_phase + (1. - alpha) * noise_phase\n",
    "# D_hat = mag[:, 1:] * np.exp(1j*undiffed_phase)\n",
    "\n",
    "y_hat = librosa.griffinlim(\n",
    "    np.concatenate([np.zeros((1, mag.shape[1])), mag[1:, :]]),\n",
    "    n_iter=128,\n",
    "    hop_length=hop_length,\n",
    "    n_fft=n_fft,\n",
    "    init=\"random\",\n",
    ")\n",
    "# y_hat = librosa.istft(D_hat, hop_length=hop_length, win_length=n_fft)\n",
    "\n",
    "Audio(data=y_hat, rate=sample_rate)"
   ]
  },
  {
   "cell_type": "code",
   "execution_count": null,
   "id": "7dadce02",
   "metadata": {},
   "outputs": [],
   "source": []
  }
 ],
 "metadata": {
  "kernelspec": {
   "display_name": "Python 3 (ipykernel)",
   "language": "python",
   "name": "python3"
  },
  "language_info": {
   "codemirror_mode": {
    "name": "ipython",
    "version": 3
   },
   "file_extension": ".py",
   "mimetype": "text/x-python",
   "name": "python",
   "nbconvert_exporter": "python",
   "pygments_lexer": "ipython3",
   "version": "3.10.10"
  }
 },
 "nbformat": 4,
 "nbformat_minor": 5
}
